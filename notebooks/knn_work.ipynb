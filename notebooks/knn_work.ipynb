{
 "cells": [
  {
   "cell_type": "code",
   "execution_count": 1,
   "id": "9727bd31",
   "metadata": {},
   "outputs": [],
   "source": [
    "import numpy as np\n",
    "import pandas as pd\n",
    "import matplotlib.pyplot as plt\n",
    "from sklearn.model_selection import cross_val_score, cross_validate,train_test_split\n",
    "from sklearn.compose import make_column_transformer\n",
    "from sklearn.dummy import DummyClassifier\n",
    "from sklearn.impute import SimpleImputer\n",
    "from sklearn.pipeline import make_pipeline\n",
    "from sklearn.preprocessing import OneHotEncoder, StandardScaler\n",
    "from sklearn.neighbors import KNeighborsClassifier, KNeighborsRegressor"
   ]
  },
  {
   "cell_type": "code",
   "execution_count": null,
   "id": "9287921d",
   "metadata": {},
   "outputs": [],
   "source": [
    "space_df = pd.read_csv('../input/spaceship-titanic/train.csv')\n",
    "spaceTest = pd.read_csv('../input/spaceship-titanic/test.csv')"
   ]
  },
  {
   "cell_type": "code",
   "execution_count": null,
   "id": "8d2647fd",
   "metadata": {},
   "outputs": [],
   "source": [
    "train_df, test_df = train_test_split(space_df, test_size=.2, random_state=123)\n",
    "X_train, y_train = train_df.drop(columns=['Transported']), train_df[['Transported']]\n",
    "X_test, y_test = test_df.drop(columns=['Transported']), test_df[['Transported']]"
   ]
  },
  {
   "cell_type": "code",
   "execution_count": null,
   "id": "65dba47f",
   "metadata": {},
   "outputs": [],
   "source": [
    "numeric_features = ['Age', 'RoomService', 'FoodCourt', 'ShoppingMall', 'Spa', 'VRDeck']  \n",
    "categorical_features = ['HomePlanet', 'CryoSleep', 'Cabin', 'Destination', 'VIP']\n",
    "drop_features = ['PassengerId', 'Name']\n",
    "target = 'Transported'\n",
    "\n",
    "# Create our preprocessor\n",
    "knn_preprocessor = make_column_transformer(\n",
    "    # Apply standard scaling and imputation to our numeric features\n",
    "    (make_pipeline(SimpleImputer(strategy='mean'), StandardScaler()), numeric_features),\n",
    "    # Apply one-hot encoding and imputation to categorical features\n",
    "    (make_pipeline(SimpleImputer(strategy='most_frequent'), OneHotEncoder(handle_unknown='ignore')), categorical_features),\n",
    "    # Drop our bad features\n",
    "    ('drop', drop_features)\n",
    ")"
   ]
  },
  {
   "cell_type": "code",
   "execution_count": null,
   "id": "f8728188",
   "metadata": {},
   "outputs": [],
   "source": [
    "results_dict = {\n",
    "    \"neighbors\": [],\n",
    "    \"train_accuracy\": [],\n",
    "    \"cv_accuracy\": [],\n",
    "    \"fit_time\": [],\n",
    "    \"score_time\": []\n",
    "}\n",
    "\n",
    "train_scores = []\n",
    "test_scores = []\n",
    "neighbors = []\n",
    "scores\n",
    "#Find the best n_neighbors\n",
    "for i in range(1, 30, 2):\n",
    "    pipe_hyper_knn = make_pipeline(knn_preprocessor, KNeighborsClassifier(n_neighbors=i))\n",
    "    pipe_hyper_knn.fit(X_train, y_train.values.ravel())\n",
    "    scores = cross_validate(pipe_hyper_knn, X_train,y_train.values.ravel(), cv=5, return_train_score = True)\n",
    "\n",
    "    results_dict[\"neighbors\"].append(i)\n",
    "    results_dict['train_accuracy'].append(np.mean(scores['train_score']))\n",
    "    results_dict['cv_accuracy'].append(np.mean(scores['test_score']))\n",
    "    results_dict['fit_time'].append(np.mean(scores['fit_time']))\n",
    "    results_dict['score_time'].append(np.mean(scores['score_time']))"
   ]
  },
  {
   "cell_type": "code",
   "execution_count": null,
   "id": "8737861e",
   "metadata": {},
   "outputs": [],
   "source": [
    "pd.DataFrame(results_dict)"
   ]
  },
  {
   "cell_type": "code",
   "execution_count": null,
   "id": "de498c59",
   "metadata": {},
   "outputs": [],
   "source": [
    "results_df = pd.DataFrame(results_dict)\n",
    "results_df = results_df.set_index(\"neighbors\")\n",
    "results_df[[\"train_accuracy\", \"cv_accuracy\"]].plot()\n",
    "display(results_df)"
   ]
  },
  {
   "cell_type": "code",
   "execution_count": null,
   "id": "5be8de87",
   "metadata": {},
   "outputs": [],
   "source": [
    "#Best n_neighbors is 25\n",
    "pipe_hyper_knn = make_pipeline(knn_preprocessor, KNeighborsClassifier(n_neighbors=25))\n",
    "pipe_hyper_knn.fit(X_train, y_train.values.ravel())\n",
    "\n",
    "X_test_predictions = pipe_hyper_knn.predict(X_test)\n",
    "modelScores['kNN with Hyperparameter'] = pipe_hyper_knn.score(X_test, y_test)\n",
    "display(modelScores['kNN with Hyperparameter'])\n",
    "\n",
    "kNNPredictions = pipe_hyper_knn.predict(spaceTest)"
   ]
  },
  {
   "cell_type": "code",
   "execution_count": null,
   "id": "bd181435",
   "metadata": {},
   "outputs": [],
   "source": [
    "# Save our results in the proper format\n",
    "result = zip(spaceTest['PassengerId'], pd.Series(kNNPredictions))\n",
    "out = pd.DataFrame(result, columns=['PassengerId', 'Transported']).sort_values('PassengerId')\n",
    "out.to_csv('./knn_with_25_hyperparameter.csv', index=False)\n",
    "out.describe()"
   ]
  }
 ],
 "metadata": {
  "kernelspec": {
   "display_name": "Python 3 (ipykernel)",
   "language": "python",
   "name": "python3"
  },
  "language_info": {
   "codemirror_mode": {
    "name": "ipython",
    "version": 3
   },
   "file_extension": ".py",
   "mimetype": "text/x-python",
   "name": "python",
   "nbconvert_exporter": "python",
   "pygments_lexer": "ipython3",
   "version": "3.9.14"
  }
 },
 "nbformat": 4,
 "nbformat_minor": 5
}
